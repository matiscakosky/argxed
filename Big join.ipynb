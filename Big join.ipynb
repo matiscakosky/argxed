{
 "cells": [
  {
   "cell_type": "code",
   "execution_count": 1,
   "metadata": {},
   "outputs": [],
   "source": [
    "import pandas as pd"
   ]
  },
  {
   "cell_type": "code",
   "execution_count": 2,
   "metadata": {},
   "outputs": [
    {
     "name": "stderr",
     "output_type": "stream",
     "text": [
      "/home/jian01/.pyenv/versions/3.6.9/envs/general/lib/python3.6/site-packages/IPython/core/interactiveshell.py:3058: DtypeWarning: Columns (2,3,4,5,6) have mixed types. Specify dtype option on import or set low_memory=False.\n",
      "  interactivity=interactivity, compiler=compiler, result=result)\n"
     ]
    }
   ],
   "source": [
    "aprender_alumnos = pd.read_csv(\"app_alumno.csv\")"
   ]
  },
  {
   "cell_type": "code",
   "execution_count": 3,
   "metadata": {},
   "outputs": [
    {
     "data": {
      "text/plain": [
       "1835710"
      ]
     },
     "execution_count": 3,
     "metadata": {},
     "output_type": "execute_result"
    }
   ],
   "source": [
    "len(aprender_alumnos)"
   ]
  },
  {
   "cell_type": "code",
   "execution_count": 4,
   "metadata": {},
   "outputs": [
    {
     "data": {
      "text/plain": [
       "Index(['id', 'sexo', 'indice_socioeconomico', 'nivel_desemp_matematica',\n",
       "       'nivel_desemp_lengua', 'nivel_desemp_ciencias_sociales',\n",
       "       'nivel_desemp_ciencias_naturales', 'ponderador_lengua',\n",
       "       'ponderador_matematica', 'ponderador_ciencias_naturales',\n",
       "       'ponderador_ciencias_sociales', 'tiene_notebook', 'tiene_pc',\n",
       "       'tiene_tablet', 'tiene_celular', 'tiene_smartphone', 'tiene_consola',\n",
       "       'tiene_smarttv', 'tiene_cable', 'tiene_internet', 'repeticion_primaria',\n",
       "       'repeticion_secundaria', 'escuela_id', 'nivel_id', 'year_id'],\n",
       "      dtype='object')"
      ]
     },
     "execution_count": 4,
     "metadata": {},
     "output_type": "execute_result"
    }
   ],
   "source": [
    "aprender_alumnos.columns"
   ]
  },
  {
   "cell_type": "code",
   "execution_count": 8,
   "metadata": {},
   "outputs": [
    {
     "data": {
      "text/plain": [
       "40.0"
      ]
     },
     "execution_count": 8,
     "metadata": {},
     "output_type": "execute_result"
    }
   ],
   "source": [
    "aprender_alumnos[\"escuela_id\"].value_counts().median()"
   ]
  },
  {
   "cell_type": "code",
   "execution_count": 5,
   "metadata": {},
   "outputs": [],
   "source": [
    "aprender_alumnos.columns = [c if c!=\"id\" else \"alumne_id\" for c in aprender_alumnos.columns]"
   ]
  },
  {
   "cell_type": "code",
   "execution_count": 6,
   "metadata": {},
   "outputs": [
    {
     "data": {
      "text/html": [
       "<div>\n",
       "<style scoped>\n",
       "    .dataframe tbody tr th:only-of-type {\n",
       "        vertical-align: middle;\n",
       "    }\n",
       "\n",
       "    .dataframe tbody tr th {\n",
       "        vertical-align: top;\n",
       "    }\n",
       "\n",
       "    .dataframe thead th {\n",
       "        text-align: right;\n",
       "    }\n",
       "</style>\n",
       "<table border=\"1\" class=\"dataframe\">\n",
       "  <thead>\n",
       "    <tr style=\"text-align: right;\">\n",
       "      <th></th>\n",
       "      <th>nivel_id</th>\n",
       "      <th>nivel</th>\n",
       "    </tr>\n",
       "  </thead>\n",
       "  <tbody>\n",
       "    <tr>\n",
       "      <th>0</th>\n",
       "      <td>1</td>\n",
       "      <td>inicial</td>\n",
       "    </tr>\n",
       "    <tr>\n",
       "      <th>1</th>\n",
       "      <td>2</td>\n",
       "      <td>primaria</td>\n",
       "    </tr>\n",
       "    <tr>\n",
       "      <th>2</th>\n",
       "      <td>3</td>\n",
       "      <td>secundaria</td>\n",
       "    </tr>\n",
       "    <tr>\n",
       "      <th>3</th>\n",
       "      <td>4</td>\n",
       "      <td>snu</td>\n",
       "    </tr>\n",
       "  </tbody>\n",
       "</table>\n",
       "</div>"
      ],
      "text/plain": [
       "   nivel_id       nivel\n",
       "0         1     inicial\n",
       "1         2    primaria\n",
       "2         3  secundaria\n",
       "3         4         snu"
      ]
     },
     "execution_count": 6,
     "metadata": {},
     "output_type": "execute_result"
    }
   ],
   "source": [
    "nivel = pd.read_csv(\"app_nivel.csv\")\n",
    "nivel.columns = [\"nivel_id\", \"nivel\"]\n",
    "nivel"
   ]
  },
  {
   "cell_type": "code",
   "execution_count": 7,
   "metadata": {},
   "outputs": [
    {
     "data": {
      "text/plain": [
       "0          120240006\n",
       "1          180540909\n",
       "2          220168311\n",
       "3          240757212\n",
       "4          262003313\n",
       "             ...    \n",
       "1835705    987217616\n",
       "1835706    992084816\n",
       "1835707    992401616\n",
       "1835708    993121616\n",
       "1835709    995267216\n",
       "Name: escuela_id, Length: 1835710, dtype: int64"
      ]
     },
     "execution_count": 7,
     "metadata": {},
     "output_type": "execute_result"
    }
   ],
   "source": [
    "aprender_alumnos[\"escuela_id\"]"
   ]
  },
  {
   "cell_type": "code",
   "execution_count": 8,
   "metadata": {},
   "outputs": [
    {
     "data": {
      "text/plain": [
       "1835710"
      ]
     },
     "execution_count": 8,
     "metadata": {},
     "output_type": "execute_result"
    }
   ],
   "source": [
    "aprender_alumnos = aprender_alumnos.merge(nivel, on=\"nivel_id\", how=\"inner\")\n",
    "len(aprender_alumnos)"
   ]
  },
  {
   "cell_type": "code",
   "execution_count": 9,
   "metadata": {},
   "outputs": [],
   "source": [
    "app_escuela = pd.read_csv(\"app_escuela.csv\")"
   ]
  },
  {
   "cell_type": "code",
   "execution_count": 10,
   "metadata": {},
   "outputs": [
    {
     "data": {
      "text/html": [
       "<div>\n",
       "<style scoped>\n",
       "    .dataframe tbody tr th:only-of-type {\n",
       "        vertical-align: middle;\n",
       "    }\n",
       "\n",
       "    .dataframe tbody tr th {\n",
       "        vertical-align: top;\n",
       "    }\n",
       "\n",
       "    .dataframe thead th {\n",
       "        text-align: right;\n",
       "    }\n",
       "</style>\n",
       "<table border=\"1\" class=\"dataframe\">\n",
       "  <thead>\n",
       "    <tr style=\"text-align: right;\">\n",
       "      <th></th>\n",
       "      <th>id</th>\n",
       "      <th>ambito</th>\n",
       "      <th>gestion</th>\n",
       "      <th>icse</th>\n",
       "      <th>icse_cat</th>\n",
       "      <th>indice_socioeconomico_medio</th>\n",
       "      <th>indice_socioeconomico_medio_cat</th>\n",
       "      <th>tecnica</th>\n",
       "      <th>tiene_internet</th>\n",
       "      <th>subvencion</th>\n",
       "      <th>dependencia</th>\n",
       "      <th>departamento_id</th>\n",
       "      <th>provincia_id</th>\n",
       "    </tr>\n",
       "  </thead>\n",
       "  <tbody>\n",
       "    <tr>\n",
       "      <th>37991</th>\n",
       "      <td>10800526020</td>\n",
       "      <td>urbano</td>\n",
       "      <td>estatal</td>\n",
       "      <td>0.657</td>\n",
       "      <td>critico</td>\n",
       "      <td>1.000000</td>\n",
       "      <td>tercil_bajo</td>\n",
       "      <td>f</td>\n",
       "      <td>f</td>\n",
       "      <td>No corresponde</td>\n",
       "      <td>provincial</td>\n",
       "      <td>174.0</td>\n",
       "      <td>13</td>\n",
       "    </tr>\n",
       "    <tr>\n",
       "      <th>24522</th>\n",
       "      <td>1170667919</td>\n",
       "      <td>urbano</td>\n",
       "      <td>estatal</td>\n",
       "      <td>-1.000</td>\n",
       "      <td>NaN</td>\n",
       "      <td>-1.000000</td>\n",
       "      <td>NaN</td>\n",
       "      <td>f</td>\n",
       "      <td>NaN</td>\n",
       "      <td>NaN</td>\n",
       "      <td>NaN</td>\n",
       "      <td>NaN</td>\n",
       "      <td>0</td>\n",
       "    </tr>\n",
       "    <tr>\n",
       "      <th>36785</th>\n",
       "      <td>8400136020</td>\n",
       "      <td>urbano</td>\n",
       "      <td>privada</td>\n",
       "      <td>-1.000</td>\n",
       "      <td>NaN</td>\n",
       "      <td>2.161290</td>\n",
       "      <td>tercil_alto</td>\n",
       "      <td>f</td>\n",
       "      <td>t</td>\n",
       "      <td>Subvención Total</td>\n",
       "      <td>provincial</td>\n",
       "      <td>145.0</td>\n",
       "      <td>10</td>\n",
       "    </tr>\n",
       "    <tr>\n",
       "      <th>50718</th>\n",
       "      <td>6760772226</td>\n",
       "      <td>urbano</td>\n",
       "      <td>estatal</td>\n",
       "      <td>-1.000</td>\n",
       "      <td>NaN</td>\n",
       "      <td>-1.000000</td>\n",
       "      <td>NaN</td>\n",
       "      <td>f</td>\n",
       "      <td>t</td>\n",
       "      <td>No corresponde</td>\n",
       "      <td>provincial</td>\n",
       "      <td>71.0</td>\n",
       "      <td>3</td>\n",
       "    </tr>\n",
       "    <tr>\n",
       "      <th>53865</th>\n",
       "      <td>301356015</td>\n",
       "      <td>urbano</td>\n",
       "      <td>privada</td>\n",
       "      <td>-1.000</td>\n",
       "      <td>NaN</td>\n",
       "      <td>2.663158</td>\n",
       "      <td>tercil_alto</td>\n",
       "      <td>f</td>\n",
       "      <td>t</td>\n",
       "      <td>Más de 50% y hasta 75%</td>\n",
       "      <td>provincial</td>\n",
       "      <td>77.0</td>\n",
       "      <td>4</td>\n",
       "    </tr>\n",
       "  </tbody>\n",
       "</table>\n",
       "</div>"
      ],
      "text/plain": [
       "                id  ambito  gestion   icse icse_cat  \\\n",
       "37991  10800526020  urbano  estatal  0.657  critico   \n",
       "24522   1170667919  urbano  estatal -1.000      NaN   \n",
       "36785   8400136020  urbano  privada -1.000      NaN   \n",
       "50718   6760772226  urbano  estatal -1.000      NaN   \n",
       "53865    301356015  urbano  privada -1.000      NaN   \n",
       "\n",
       "       indice_socioeconomico_medio indice_socioeconomico_medio_cat tecnica  \\\n",
       "37991                     1.000000                     tercil_bajo       f   \n",
       "24522                    -1.000000                             NaN       f   \n",
       "36785                     2.161290                     tercil_alto       f   \n",
       "50718                    -1.000000                             NaN       f   \n",
       "53865                     2.663158                     tercil_alto       f   \n",
       "\n",
       "      tiene_internet              subvencion dependencia  departamento_id  \\\n",
       "37991              f          No corresponde  provincial            174.0   \n",
       "24522            NaN                     NaN         NaN              NaN   \n",
       "36785              t        Subvención Total  provincial            145.0   \n",
       "50718              t          No corresponde  provincial             71.0   \n",
       "53865              t  Más de 50% y hasta 75%  provincial             77.0   \n",
       "\n",
       "       provincia_id  \n",
       "37991            13  \n",
       "24522             0  \n",
       "36785            10  \n",
       "50718             3  \n",
       "53865             4  "
      ]
     },
     "execution_count": 10,
     "metadata": {},
     "output_type": "execute_result"
    }
   ],
   "source": [
    "app_escuela.sample(5)"
   ]
  },
  {
   "cell_type": "code",
   "execution_count": 11,
   "metadata": {},
   "outputs": [],
   "source": [
    "app_escuela.columns = [\"escuela_id\"] + list(app_escuela.columns[1:])"
   ]
  },
  {
   "cell_type": "code",
   "execution_count": 12,
   "metadata": {},
   "outputs": [
    {
     "data": {
      "text/plain": [
       "1835710"
      ]
     },
     "execution_count": 12,
     "metadata": {},
     "output_type": "execute_result"
    }
   ],
   "source": [
    "aprender_alumnos = aprender_alumnos.merge(app_escuela, on=\"escuela_id\", how=\"inner\")\n",
    "len(aprender_alumnos)"
   ]
  },
  {
   "cell_type": "code",
   "execution_count": 13,
   "metadata": {},
   "outputs": [
    {
     "data": {
      "text/plain": [
       "Index(['alumne_id', 'sexo', 'indice_socioeconomico', 'nivel_desemp_matematica',\n",
       "       'nivel_desemp_lengua', 'nivel_desemp_ciencias_sociales',\n",
       "       'nivel_desemp_ciencias_naturales', 'ponderador_lengua',\n",
       "       'ponderador_matematica', 'ponderador_ciencias_naturales',\n",
       "       'ponderador_ciencias_sociales', 'tiene_notebook', 'tiene_pc',\n",
       "       'tiene_tablet', 'tiene_celular', 'tiene_smartphone', 'tiene_consola',\n",
       "       'tiene_smarttv', 'tiene_cable', 'tiene_internet_x',\n",
       "       'repeticion_primaria', 'repeticion_secundaria', 'escuela_id',\n",
       "       'nivel_id', 'year_id', 'nivel', 'ambito', 'gestion', 'icse', 'icse_cat',\n",
       "       'indice_socioeconomico_medio', 'indice_socioeconomico_medio_cat',\n",
       "       'tecnica', 'tiene_internet_y', 'subvencion', 'dependencia',\n",
       "       'departamento_id', 'provincia_id'],\n",
       "      dtype='object')"
      ]
     },
     "execution_count": 13,
     "metadata": {},
     "output_type": "execute_result"
    }
   ],
   "source": [
    "aprender_alumnos.columns"
   ]
  },
  {
   "cell_type": "code",
   "execution_count": 14,
   "metadata": {},
   "outputs": [],
   "source": [
    "aprender_alumnos.columns = [c.replace(\"_x\",\"_alumne\").replace(\"_y\",\"_escuela\") for c in aprender_alumnos.columns]"
   ]
  },
  {
   "cell_type": "code",
   "execution_count": 15,
   "metadata": {},
   "outputs": [
    {
     "data": {
      "text/plain": [
       "Index(['alumne_id', 'sexo', 'indice_socioeconomico', 'nivel_desemp_matematica',\n",
       "       'nivel_desemp_lengua', 'nivel_desemp_ciencias_sociales',\n",
       "       'nivel_desemp_ciencias_naturales', 'ponderador_lengua',\n",
       "       'ponderador_matematica', 'ponderador_ciencias_naturales',\n",
       "       'ponderador_ciencias_sociales', 'tiene_notebook', 'tiene_pc',\n",
       "       'tiene_tablet', 'tiene_celular', 'tiene_smartphone', 'tiene_consola',\n",
       "       'tiene_smarttv', 'tiene_cable', 'tiene_internet_alumne',\n",
       "       'repeticion_primaria', 'repeticion_secundaria', 'escuela_id',\n",
       "       'nivel_id', 'year_id', 'nivel', 'ambito', 'gestion', 'icse', 'icse_cat',\n",
       "       'indice_socioeconomico_medio', 'indice_socioeconomico_medio_cat',\n",
       "       'tecnica', 'tiene_internet_escuela', 'subvencion', 'dependencia',\n",
       "       'departamento_id', 'provincia_id'],\n",
       "      dtype='object')"
      ]
     },
     "execution_count": 15,
     "metadata": {},
     "output_type": "execute_result"
    }
   ],
   "source": [
    "aprender_alumnos.columns"
   ]
  },
  {
   "cell_type": "code",
   "execution_count": 16,
   "metadata": {},
   "outputs": [],
   "source": [
    "app_provincia = pd.read_csv(\"app_provincia.csv\")"
   ]
  },
  {
   "cell_type": "code",
   "execution_count": 17,
   "metadata": {},
   "outputs": [
    {
     "data": {
      "text/html": [
       "<div>\n",
       "<style scoped>\n",
       "    .dataframe tbody tr th:only-of-type {\n",
       "        vertical-align: middle;\n",
       "    }\n",
       "\n",
       "    .dataframe tbody tr th {\n",
       "        vertical-align: top;\n",
       "    }\n",
       "\n",
       "    .dataframe thead th {\n",
       "        text-align: right;\n",
       "    }\n",
       "</style>\n",
       "<table border=\"1\" class=\"dataframe\">\n",
       "  <thead>\n",
       "    <tr style=\"text-align: right;\">\n",
       "      <th></th>\n",
       "      <th>id</th>\n",
       "      <th>name</th>\n",
       "    </tr>\n",
       "  </thead>\n",
       "  <tbody>\n",
       "    <tr>\n",
       "      <th>5</th>\n",
       "      <td>5</td>\n",
       "      <td>Corrientes</td>\n",
       "    </tr>\n",
       "    <tr>\n",
       "      <th>21</th>\n",
       "      <td>21</td>\n",
       "      <td>Santiago del Estero</td>\n",
       "    </tr>\n",
       "    <tr>\n",
       "      <th>9</th>\n",
       "      <td>9</td>\n",
       "      <td>Jujuy</td>\n",
       "    </tr>\n",
       "    <tr>\n",
       "      <th>22</th>\n",
       "      <td>22</td>\n",
       "      <td>Tierra del Fuego</td>\n",
       "    </tr>\n",
       "    <tr>\n",
       "      <th>18</th>\n",
       "      <td>18</td>\n",
       "      <td>San Luis</td>\n",
       "    </tr>\n",
       "  </tbody>\n",
       "</table>\n",
       "</div>"
      ],
      "text/plain": [
       "    id                 name\n",
       "5    5           Corrientes\n",
       "21  21  Santiago del Estero\n",
       "9    9                Jujuy\n",
       "22  22     Tierra del Fuego\n",
       "18  18             San Luis"
      ]
     },
     "execution_count": 17,
     "metadata": {},
     "output_type": "execute_result"
    }
   ],
   "source": [
    "app_provincia.sample(5)"
   ]
  },
  {
   "cell_type": "code",
   "execution_count": 18,
   "metadata": {},
   "outputs": [],
   "source": [
    "app_provincia.columns = [\"id\",\"name_provincia\"]"
   ]
  },
  {
   "cell_type": "code",
   "execution_count": 19,
   "metadata": {},
   "outputs": [
    {
     "data": {
      "text/plain": [
       "1835710"
      ]
     },
     "execution_count": 19,
     "metadata": {},
     "output_type": "execute_result"
    }
   ],
   "source": [
    "aprender_alumnos = aprender_alumnos.merge(app_provincia, left_on=\"provincia_id\", how=\"inner\", right_on=\"id\")\n",
    "len(aprender_alumnos)"
   ]
  },
  {
   "cell_type": "code",
   "execution_count": 20,
   "metadata": {},
   "outputs": [
    {
     "data": {
      "text/plain": [
       "Index(['alumne_id', 'sexo', 'indice_socioeconomico', 'nivel_desemp_matematica',\n",
       "       'nivel_desemp_lengua', 'nivel_desemp_ciencias_sociales',\n",
       "       'nivel_desemp_ciencias_naturales', 'ponderador_lengua',\n",
       "       'ponderador_matematica', 'ponderador_ciencias_naturales',\n",
       "       'ponderador_ciencias_sociales', 'tiene_notebook', 'tiene_pc',\n",
       "       'tiene_tablet', 'tiene_celular', 'tiene_smartphone', 'tiene_consola',\n",
       "       'tiene_smarttv', 'tiene_cable', 'tiene_internet_alumne',\n",
       "       'repeticion_primaria', 'repeticion_secundaria', 'escuela_id',\n",
       "       'nivel_id', 'year_id', 'nivel', 'ambito', 'gestion', 'icse', 'icse_cat',\n",
       "       'indice_socioeconomico_medio', 'indice_socioeconomico_medio_cat',\n",
       "       'tecnica', 'tiene_internet_escuela', 'subvencion', 'dependencia',\n",
       "       'departamento_id', 'provincia_id', 'id', 'name_provincia'],\n",
       "      dtype='object')"
      ]
     },
     "execution_count": 20,
     "metadata": {},
     "output_type": "execute_result"
    }
   ],
   "source": [
    "aprender_alumnos.columns"
   ]
  },
  {
   "cell_type": "code",
   "execution_count": 21,
   "metadata": {},
   "outputs": [],
   "source": [
    "aprender_alumnos = aprender_alumnos[['alumne_id','sexo', 'indice_socioeconomico', 'nivel_desemp_matematica',\n",
    "       'nivel_desemp_lengua', 'nivel_desemp_ciencias_sociales',\n",
    "       'nivel_desemp_ciencias_naturales', 'ponderador_lengua',\n",
    "       'ponderador_matematica', 'ponderador_ciencias_naturales',\n",
    "       'ponderador_ciencias_sociales', 'tiene_notebook', 'tiene_pc',\n",
    "       'tiene_tablet', 'tiene_celular', 'tiene_smartphone', 'tiene_consola',\n",
    "       'tiene_smarttv', 'tiene_cable', 'tiene_internet_alumne',\n",
    "       'repeticion_primaria', 'repeticion_secundaria', 'escuela_id',\n",
    "       'nivel_id', 'year_id', 'nivel', 'ambito', 'gestion', 'icse', 'icse_cat',\n",
    "       'indice_socioeconomico_medio', 'indice_socioeconomico_medio_cat',\n",
    "       'tecnica', 'tiene_internet_escuela', 'subvencion', 'dependencia',\n",
    "       'departamento_id', 'provincia_id', 'name_provincia']]"
   ]
  },
  {
   "cell_type": "code",
   "execution_count": 22,
   "metadata": {},
   "outputs": [
    {
     "data": {
      "text/html": [
       "<div>\n",
       "<style scoped>\n",
       "    .dataframe tbody tr th:only-of-type {\n",
       "        vertical-align: middle;\n",
       "    }\n",
       "\n",
       "    .dataframe tbody tr th {\n",
       "        vertical-align: top;\n",
       "    }\n",
       "\n",
       "    .dataframe thead th {\n",
       "        text-align: right;\n",
       "    }\n",
       "</style>\n",
       "<table border=\"1\" class=\"dataframe\">\n",
       "  <thead>\n",
       "    <tr style=\"text-align: right;\">\n",
       "      <th></th>\n",
       "      <th>id</th>\n",
       "      <th>name</th>\n",
       "      <th>tasa_con_nbi</th>\n",
       "      <th>provincia_id</th>\n",
       "    </tr>\n",
       "  </thead>\n",
       "  <tbody>\n",
       "    <tr>\n",
       "      <th>225</th>\n",
       "      <td>235</td>\n",
       "      <td>Vera</td>\n",
       "      <td>0.14672</td>\n",
       "      <td>20</td>\n",
       "    </tr>\n",
       "  </tbody>\n",
       "</table>\n",
       "</div>"
      ],
      "text/plain": [
       "      id  name  tasa_con_nbi  provincia_id\n",
       "225  235  Vera       0.14672            20"
      ]
     },
     "execution_count": 22,
     "metadata": {},
     "output_type": "execute_result"
    }
   ],
   "source": [
    "app_departamento = pd.read_csv(\"app_departamento.csv\")\n",
    "app_departamento.sample()"
   ]
  },
  {
   "cell_type": "code",
   "execution_count": 23,
   "metadata": {},
   "outputs": [],
   "source": [
    "app_departamento.columns = [\"id\",\"departamento_name\",\"tasa_con_nbi\", \"provincia_id\"]"
   ]
  },
  {
   "cell_type": "code",
   "execution_count": 24,
   "metadata": {},
   "outputs": [
    {
     "data": {
      "text/plain": [
       "1835710"
      ]
     },
     "execution_count": 24,
     "metadata": {},
     "output_type": "execute_result"
    }
   ],
   "source": [
    "aprender_alumnos = aprender_alumnos.merge(app_departamento, left_on=\"departamento_id\", how=\"left\", right_on=\"id\")\n",
    "len(aprender_alumnos)"
   ]
  },
  {
   "cell_type": "code",
   "execution_count": 25,
   "metadata": {},
   "outputs": [
    {
     "data": {
      "text/plain": [
       "Index(['alumne_id', 'sexo', 'indice_socioeconomico', 'nivel_desemp_matematica',\n",
       "       'nivel_desemp_lengua', 'nivel_desemp_ciencias_sociales',\n",
       "       'nivel_desemp_ciencias_naturales', 'ponderador_lengua',\n",
       "       'ponderador_matematica', 'ponderador_ciencias_naturales',\n",
       "       'ponderador_ciencias_sociales', 'tiene_notebook', 'tiene_pc',\n",
       "       'tiene_tablet', 'tiene_celular', 'tiene_smartphone', 'tiene_consola',\n",
       "       'tiene_smarttv', 'tiene_cable', 'tiene_internet_alumne',\n",
       "       'repeticion_primaria', 'repeticion_secundaria', 'escuela_id',\n",
       "       'nivel_id', 'year_id', 'nivel', 'ambito', 'gestion', 'icse', 'icse_cat',\n",
       "       'indice_socioeconomico_medio', 'indice_socioeconomico_medio_cat',\n",
       "       'tecnica', 'tiene_internet_escuela', 'subvencion', 'dependencia',\n",
       "       'departamento_id', 'provincia_id_x', 'name_provincia', 'id',\n",
       "       'departamento_name', 'tasa_con_nbi', 'provincia_id_y'],\n",
       "      dtype='object')"
      ]
     },
     "execution_count": 25,
     "metadata": {},
     "output_type": "execute_result"
    }
   ],
   "source": [
    "aprender_alumnos.columns"
   ]
  },
  {
   "cell_type": "code",
   "execution_count": 26,
   "metadata": {},
   "outputs": [],
   "source": [
    "aprender_alumnos = aprender_alumnos[['alumne_id', 'sexo', 'indice_socioeconomico', 'nivel_desemp_matematica',\n",
    "       'nivel_desemp_lengua', 'nivel_desemp_ciencias_sociales',\n",
    "       'nivel_desemp_ciencias_naturales', 'ponderador_lengua',\n",
    "       'ponderador_matematica', 'ponderador_ciencias_naturales',\n",
    "       'ponderador_ciencias_sociales', 'tiene_notebook', 'tiene_pc',\n",
    "       'tiene_tablet', 'tiene_celular', 'tiene_smartphone', 'tiene_consola',\n",
    "       'tiene_smarttv', 'tiene_cable', 'tiene_internet_alumne',\n",
    "       'repeticion_primaria', 'repeticion_secundaria', 'year_id', 'nivel', 'ambito', 'gestion', 'icse', 'icse_cat',\n",
    "       'indice_socioeconomico_medio', 'indice_socioeconomico_medio_cat',\n",
    "       'tecnica', 'tiene_internet_escuela', 'subvencion', 'dependencia', 'name_provincia',\n",
    "       'departamento_name', 'tasa_con_nbi']]"
   ]
  },
  {
   "cell_type": "code",
   "execution_count": 27,
   "metadata": {},
   "outputs": [],
   "source": [
    "aprender_alumnos.to_csv(\"super_join.csv\", index=False)"
   ]
  },
  {
   "cell_type": "code",
   "execution_count": null,
   "metadata": {},
   "outputs": [],
   "source": []
  }
 ],
 "metadata": {
  "kernelspec": {
   "display_name": "Python 3",
   "language": "python",
   "name": "python3"
  },
  "language_info": {
   "codemirror_mode": {
    "name": "ipython",
    "version": 3
   },
   "file_extension": ".py",
   "mimetype": "text/x-python",
   "name": "python",
   "nbconvert_exporter": "python",
   "pygments_lexer": "ipython3",
   "version": "3.6.9"
  }
 },
 "nbformat": 4,
 "nbformat_minor": 4
}
