{
 "cells": [
  {
   "cell_type": "code",
   "execution_count": 1,
   "metadata": {
    "colab": {},
    "colab_type": "code",
    "id": "-kspPQ7ReqnI"
   },
   "outputs": [],
   "source": [
    "import pandas as pd\n",
    "import math"
   ]
  },
  {
   "cell_type": "code",
   "execution_count": 2,
   "metadata": {
    "colab": {
     "base_uri": "https://localhost:8080/",
     "height": 263
    },
    "colab_type": "code",
    "id": "QMIlMolqere-",
    "outputId": "5e875467-153d-4d42-a61b-83274895f992"
   },
   "outputs": [
    {
     "name": "stderr",
     "output_type": "stream",
     "text": [
      "/home/jian01/.pyenv/versions/3.6.9/envs/general/lib/python3.6/site-packages/IPython/core/interactiveshell.py:3058: DtypeWarning: Columns (2,3,4,5,6) have mixed types. Specify dtype option on import or set low_memory=False.\n",
      "  interactivity=interactivity, compiler=compiler, result=result)\n"
     ]
    },
    {
     "data": {
      "text/html": [
       "<div>\n",
       "<style scoped>\n",
       "    .dataframe tbody tr th:only-of-type {\n",
       "        vertical-align: middle;\n",
       "    }\n",
       "\n",
       "    .dataframe tbody tr th {\n",
       "        vertical-align: top;\n",
       "    }\n",
       "\n",
       "    .dataframe thead th {\n",
       "        text-align: right;\n",
       "    }\n",
       "</style>\n",
       "<table border=\"1\" class=\"dataframe\">\n",
       "  <thead>\n",
       "    <tr style=\"text-align: right;\">\n",
       "      <th></th>\n",
       "      <th>id</th>\n",
       "      <th>sexo</th>\n",
       "      <th>indice_socioeconomico</th>\n",
       "      <th>nivel_desemp_matematica</th>\n",
       "      <th>nivel_desemp_lengua</th>\n",
       "      <th>nivel_desemp_ciencias_sociales</th>\n",
       "      <th>nivel_desemp_ciencias_naturales</th>\n",
       "      <th>ponderador_lengua</th>\n",
       "      <th>ponderador_matematica</th>\n",
       "      <th>ponderador_ciencias_naturales</th>\n",
       "      <th>...</th>\n",
       "      <th>tiene_smartphone</th>\n",
       "      <th>tiene_consola</th>\n",
       "      <th>tiene_smarttv</th>\n",
       "      <th>tiene_cable</th>\n",
       "      <th>tiene_internet</th>\n",
       "      <th>repeticion_primaria</th>\n",
       "      <th>repeticion_secundaria</th>\n",
       "      <th>escuela_id</th>\n",
       "      <th>nivel_id</th>\n",
       "      <th>year_id</th>\n",
       "    </tr>\n",
       "  </thead>\n",
       "  <tbody>\n",
       "    <tr>\n",
       "      <th>1211473</th>\n",
       "      <td>1211474</td>\n",
       "      <td>m</td>\n",
       "      <td>medio</td>\n",
       "      <td>basico</td>\n",
       "      <td>basico</td>\n",
       "      <td>por_debajo_del_basico</td>\n",
       "      <td>basico</td>\n",
       "      <td>1.022708</td>\n",
       "      <td>1.033097</td>\n",
       "      <td>1.059034</td>\n",
       "      <td>...</td>\n",
       "      <td>no</td>\n",
       "      <td>no</td>\n",
       "      <td>no</td>\n",
       "      <td>si</td>\n",
       "      <td>no</td>\n",
       "      <td>no</td>\n",
       "      <td>no</td>\n",
       "      <td>6120732618</td>\n",
       "      <td>3</td>\n",
       "      <td>2016</td>\n",
       "    </tr>\n",
       "    <tr>\n",
       "      <th>260172</th>\n",
       "      <td>260173</td>\n",
       "      <td>nc</td>\n",
       "      <td>NaN</td>\n",
       "      <td>satisfactorio</td>\n",
       "      <td>satisfactorio</td>\n",
       "      <td>satisfactorio</td>\n",
       "      <td>nc</td>\n",
       "      <td>1.593469</td>\n",
       "      <td>1.676911</td>\n",
       "      <td>-1.000000</td>\n",
       "      <td>...</td>\n",
       "      <td>nc</td>\n",
       "      <td>nc</td>\n",
       "      <td>nc</td>\n",
       "      <td>nc</td>\n",
       "      <td>nc</td>\n",
       "      <td>nc</td>\n",
       "      <td>nc</td>\n",
       "      <td>1212448020</td>\n",
       "      <td>3</td>\n",
       "      <td>2013</td>\n",
       "    </tr>\n",
       "    <tr>\n",
       "      <th>1212490</th>\n",
       "      <td>1212490</td>\n",
       "      <td>nc</td>\n",
       "      <td>bajo</td>\n",
       "      <td>por_debajo_del_basico</td>\n",
       "      <td>basico</td>\n",
       "      <td>avanzado</td>\n",
       "      <td>satisfactorio</td>\n",
       "      <td>2.781630</td>\n",
       "      <td>1.525389</td>\n",
       "      <td>2.445756</td>\n",
       "      <td>...</td>\n",
       "      <td>no</td>\n",
       "      <td>no</td>\n",
       "      <td>si</td>\n",
       "      <td>si</td>\n",
       "      <td>no</td>\n",
       "      <td>nc</td>\n",
       "      <td>nc</td>\n",
       "      <td>22363096626</td>\n",
       "      <td>3</td>\n",
       "      <td>2016</td>\n",
       "    </tr>\n",
       "    <tr>\n",
       "      <th>10916</th>\n",
       "      <td>10917</td>\n",
       "      <td>nc</td>\n",
       "      <td>NaN</td>\n",
       "      <td>nc</td>\n",
       "      <td>basico</td>\n",
       "      <td>nc</td>\n",
       "      <td>por_debajo_del_basico</td>\n",
       "      <td>11.188797</td>\n",
       "      <td>-1.000000</td>\n",
       "      <td>11.723913</td>\n",
       "      <td>...</td>\n",
       "      <td>nc</td>\n",
       "      <td>nc</td>\n",
       "      <td>nc</td>\n",
       "      <td>nc</td>\n",
       "      <td>nc</td>\n",
       "      <td>nc</td>\n",
       "      <td>nc</td>\n",
       "      <td>15002667030</td>\n",
       "      <td>2</td>\n",
       "      <td>2013</td>\n",
       "    </tr>\n",
       "    <tr>\n",
       "      <th>947984</th>\n",
       "      <td>947985</td>\n",
       "      <td>nc</td>\n",
       "      <td>medio</td>\n",
       "      <td>por_debajo_del_basico</td>\n",
       "      <td>por_debajo_del_basico</td>\n",
       "      <td>por_debajo_del_basico</td>\n",
       "      <td>basico</td>\n",
       "      <td>2.037387</td>\n",
       "      <td>1.669542</td>\n",
       "      <td>1.737209</td>\n",
       "      <td>...</td>\n",
       "      <td>no</td>\n",
       "      <td>no</td>\n",
       "      <td>no</td>\n",
       "      <td>no</td>\n",
       "      <td>si</td>\n",
       "      <td>nc</td>\n",
       "      <td>nc</td>\n",
       "      <td>1300951613</td>\n",
       "      <td>3</td>\n",
       "      <td>2016</td>\n",
       "    </tr>\n",
       "  </tbody>\n",
       "</table>\n",
       "<p>5 rows × 25 columns</p>\n",
       "</div>"
      ],
      "text/plain": [
       "              id sexo indice_socioeconomico nivel_desemp_matematica  \\\n",
       "1211473  1211474    m                 medio                  basico   \n",
       "260172    260173   nc                   NaN           satisfactorio   \n",
       "1212490  1212490   nc                  bajo   por_debajo_del_basico   \n",
       "10916      10917   nc                   NaN                      nc   \n",
       "947984    947985   nc                 medio   por_debajo_del_basico   \n",
       "\n",
       "           nivel_desemp_lengua nivel_desemp_ciencias_sociales  \\\n",
       "1211473                 basico          por_debajo_del_basico   \n",
       "260172           satisfactorio                  satisfactorio   \n",
       "1212490                 basico                       avanzado   \n",
       "10916                   basico                             nc   \n",
       "947984   por_debajo_del_basico          por_debajo_del_basico   \n",
       "\n",
       "        nivel_desemp_ciencias_naturales  ponderador_lengua  \\\n",
       "1211473                          basico           1.022708   \n",
       "260172                               nc           1.593469   \n",
       "1212490                   satisfactorio           2.781630   \n",
       "10916             por_debajo_del_basico          11.188797   \n",
       "947984                           basico           2.037387   \n",
       "\n",
       "         ponderador_matematica  ponderador_ciencias_naturales  ...  \\\n",
       "1211473               1.033097                       1.059034  ...   \n",
       "260172                1.676911                      -1.000000  ...   \n",
       "1212490               1.525389                       2.445756  ...   \n",
       "10916                -1.000000                      11.723913  ...   \n",
       "947984                1.669542                       1.737209  ...   \n",
       "\n",
       "         tiene_smartphone tiene_consola tiene_smarttv tiene_cable  \\\n",
       "1211473                no            no            no          si   \n",
       "260172                 nc            nc            nc          nc   \n",
       "1212490                no            no            si          si   \n",
       "10916                  nc            nc            nc          nc   \n",
       "947984                 no            no            no          no   \n",
       "\n",
       "        tiene_internet repeticion_primaria repeticion_secundaria   escuela_id  \\\n",
       "1211473             no                  no                    no   6120732618   \n",
       "260172              nc                  nc                    nc   1212448020   \n",
       "1212490             no                  nc                    nc  22363096626   \n",
       "10916               nc                  nc                    nc  15002667030   \n",
       "947984              si                  nc                    nc   1300951613   \n",
       "\n",
       "        nivel_id year_id  \n",
       "1211473        3    2016  \n",
       "260172         3    2013  \n",
       "1212490        3    2016  \n",
       "10916          2    2013  \n",
       "947984         3    2016  \n",
       "\n",
       "[5 rows x 25 columns]"
      ]
     },
     "execution_count": 2,
     "metadata": {},
     "output_type": "execute_result"
    }
   ],
   "source": [
    "aprender_alumnos = pd.read_csv(\"app_alumno.csv\")\n",
    "aprender_alumnos.sample(5)"
   ]
  },
  {
   "cell_type": "code",
   "execution_count": 3,
   "metadata": {
    "colab": {
     "base_uri": "https://localhost:8080/",
     "height": 320
    },
    "colab_type": "code",
    "id": "1xQ0H6lKfFgW",
    "outputId": "6df55d9b-97de-4d27-9718-4737e72a2846"
   },
   "outputs": [
    {
     "data": {
      "text/html": [
       "<div>\n",
       "<style scoped>\n",
       "    .dataframe tbody tr th:only-of-type {\n",
       "        vertical-align: middle;\n",
       "    }\n",
       "\n",
       "    .dataframe tbody tr th {\n",
       "        vertical-align: top;\n",
       "    }\n",
       "\n",
       "    .dataframe thead th {\n",
       "        text-align: right;\n",
       "    }\n",
       "</style>\n",
       "<table border=\"1\" class=\"dataframe\">\n",
       "  <thead>\n",
       "    <tr style=\"text-align: right;\">\n",
       "      <th></th>\n",
       "      <th>id</th>\n",
       "      <th>ponderador_lengua</th>\n",
       "      <th>ponderador_matematica</th>\n",
       "      <th>ponderador_ciencias_naturales</th>\n",
       "      <th>ponderador_ciencias_sociales</th>\n",
       "      <th>escuela_id</th>\n",
       "      <th>nivel_id</th>\n",
       "      <th>year_id</th>\n",
       "    </tr>\n",
       "  </thead>\n",
       "  <tbody>\n",
       "    <tr>\n",
       "      <th>count</th>\n",
       "      <td>1.835710e+06</td>\n",
       "      <td>1.696377e+06</td>\n",
       "      <td>1.726680e+06</td>\n",
       "      <td>1.732310e+06</td>\n",
       "      <td>1.756376e+06</td>\n",
       "      <td>1.835710e+06</td>\n",
       "      <td>1.835710e+06</td>\n",
       "      <td>1.835710e+06</td>\n",
       "    </tr>\n",
       "    <tr>\n",
       "      <th>mean</th>\n",
       "      <td>9.178555e+05</td>\n",
       "      <td>1.031906e+00</td>\n",
       "      <td>1.004982e+00</td>\n",
       "      <td>8.996754e-01</td>\n",
       "      <td>9.123590e-01</td>\n",
       "      <td>7.098804e+09</td>\n",
       "      <td>2.372548e+00</td>\n",
       "      <td>2.015702e+03</td>\n",
       "    </tr>\n",
       "    <tr>\n",
       "      <th>std</th>\n",
       "      <td>5.299240e+05</td>\n",
       "      <td>4.482136e+00</td>\n",
       "      <td>4.633515e+00</td>\n",
       "      <td>4.440036e+00</td>\n",
       "      <td>4.367103e+00</td>\n",
       "      <td>7.627225e+09</td>\n",
       "      <td>4.834834e-01</td>\n",
       "      <td>1.431061e+00</td>\n",
       "    </tr>\n",
       "    <tr>\n",
       "      <th>min</th>\n",
       "      <td>1.000000e+00</td>\n",
       "      <td>-1.000000e+00</td>\n",
       "      <td>-1.000000e+00</td>\n",
       "      <td>-1.000000e+00</td>\n",
       "      <td>-1.000000e+00</td>\n",
       "      <td>6.000030e+07</td>\n",
       "      <td>2.000000e+00</td>\n",
       "      <td>2.013000e+03</td>\n",
       "    </tr>\n",
       "    <tr>\n",
       "      <th>25%</th>\n",
       "      <td>4.589282e+05</td>\n",
       "      <td>-1.000000e+00</td>\n",
       "      <td>-1.000000e+00</td>\n",
       "      <td>-1.000000e+00</td>\n",
       "      <td>-1.000000e+00</td>\n",
       "      <td>1.467454e+09</td>\n",
       "      <td>2.000000e+00</td>\n",
       "      <td>2.016000e+03</td>\n",
       "    </tr>\n",
       "    <tr>\n",
       "      <th>50%</th>\n",
       "      <td>9.178555e+05</td>\n",
       "      <td>1.119620e+00</td>\n",
       "      <td>1.098848e+00</td>\n",
       "      <td>1.078306e+00</td>\n",
       "      <td>1.085212e+00</td>\n",
       "      <td>3.085839e+09</td>\n",
       "      <td>2.000000e+00</td>\n",
       "      <td>2.016000e+03</td>\n",
       "    </tr>\n",
       "    <tr>\n",
       "      <th>75%</th>\n",
       "      <td>1.376783e+06</td>\n",
       "      <td>1.442554e+00</td>\n",
       "      <td>1.468137e+00</td>\n",
       "      <td>1.420758e+00</td>\n",
       "      <td>1.414500e+00</td>\n",
       "      <td>1.188092e+10</td>\n",
       "      <td>3.000000e+00</td>\n",
       "      <td>2.017000e+03</td>\n",
       "    </tr>\n",
       "    <tr>\n",
       "      <th>max</th>\n",
       "      <td>1.835710e+06</td>\n",
       "      <td>1.097849e+02</td>\n",
       "      <td>1.244528e+02</td>\n",
       "      <td>9.870000e+02</td>\n",
       "      <td>1.027756e+02</td>\n",
       "      <td>3.526857e+10</td>\n",
       "      <td>3.000000e+00</td>\n",
       "      <td>2.017000e+03</td>\n",
       "    </tr>\n",
       "  </tbody>\n",
       "</table>\n",
       "</div>"
      ],
      "text/plain": [
       "                 id  ponderador_lengua  ponderador_matematica  \\\n",
       "count  1.835710e+06       1.696377e+06           1.726680e+06   \n",
       "mean   9.178555e+05       1.031906e+00           1.004982e+00   \n",
       "std    5.299240e+05       4.482136e+00           4.633515e+00   \n",
       "min    1.000000e+00      -1.000000e+00          -1.000000e+00   \n",
       "25%    4.589282e+05      -1.000000e+00          -1.000000e+00   \n",
       "50%    9.178555e+05       1.119620e+00           1.098848e+00   \n",
       "75%    1.376783e+06       1.442554e+00           1.468137e+00   \n",
       "max    1.835710e+06       1.097849e+02           1.244528e+02   \n",
       "\n",
       "       ponderador_ciencias_naturales  ponderador_ciencias_sociales  \\\n",
       "count                   1.732310e+06                  1.756376e+06   \n",
       "mean                    8.996754e-01                  9.123590e-01   \n",
       "std                     4.440036e+00                  4.367103e+00   \n",
       "min                    -1.000000e+00                 -1.000000e+00   \n",
       "25%                    -1.000000e+00                 -1.000000e+00   \n",
       "50%                     1.078306e+00                  1.085212e+00   \n",
       "75%                     1.420758e+00                  1.414500e+00   \n",
       "max                     9.870000e+02                  1.027756e+02   \n",
       "\n",
       "         escuela_id      nivel_id       year_id  \n",
       "count  1.835710e+06  1.835710e+06  1.835710e+06  \n",
       "mean   7.098804e+09  2.372548e+00  2.015702e+03  \n",
       "std    7.627225e+09  4.834834e-01  1.431061e+00  \n",
       "min    6.000030e+07  2.000000e+00  2.013000e+03  \n",
       "25%    1.467454e+09  2.000000e+00  2.016000e+03  \n",
       "50%    3.085839e+09  2.000000e+00  2.016000e+03  \n",
       "75%    1.188092e+10  3.000000e+00  2.017000e+03  \n",
       "max    3.526857e+10  3.000000e+00  2.017000e+03  "
      ]
     },
     "execution_count": 3,
     "metadata": {},
     "output_type": "execute_result"
    }
   ],
   "source": [
    "aprender_alumnos.describe()"
   ]
  },
  {
   "cell_type": "code",
   "execution_count": 4,
   "metadata": {
    "colab": {
     "base_uri": "https://localhost:8080/",
     "height": 182
    },
    "colab_type": "code",
    "id": "B7Lh47a4fNPf",
    "outputId": "f3bf57a5-7bcf-4440-92b2-c69108d501ad"
   },
   "outputs": [
    {
     "data": {
      "text/plain": [
       "Index(['id', 'sexo', 'indice_socioeconomico', 'nivel_desemp_matematica',\n",
       "       'nivel_desemp_lengua', 'nivel_desemp_ciencias_sociales',\n",
       "       'nivel_desemp_ciencias_naturales', 'ponderador_lengua',\n",
       "       'ponderador_matematica', 'ponderador_ciencias_naturales',\n",
       "       'ponderador_ciencias_sociales', 'tiene_notebook', 'tiene_pc',\n",
       "       'tiene_tablet', 'tiene_celular', 'tiene_smartphone', 'tiene_consola',\n",
       "       'tiene_smarttv', 'tiene_cable', 'tiene_internet', 'repeticion_primaria',\n",
       "       'repeticion_secundaria', 'escuela_id', 'nivel_id', 'year_id'],\n",
       "      dtype='object')"
      ]
     },
     "execution_count": 4,
     "metadata": {},
     "output_type": "execute_result"
    }
   ],
   "source": [
    "aprender_alumnos.columns"
   ]
  },
  {
   "cell_type": "markdown",
   "metadata": {
    "colab_type": "text",
    "id": "3zkVKMqOfk-o"
   },
   "source": [
    "# Sexo"
   ]
  },
  {
   "cell_type": "code",
   "execution_count": 5,
   "metadata": {
    "colab": {
     "base_uri": "https://localhost:8080/",
     "height": 90
    },
    "colab_type": "code",
    "id": "qXlZeSrOfl_G",
    "outputId": "838bf527-b844-4ad8-9145-d823582cd597"
   },
   "outputs": [
    {
     "data": {
      "text/plain": [
       "nc    823198\n",
       "f     516327\n",
       "m     496185\n",
       "Name: sexo, dtype: int64"
      ]
     },
     "execution_count": 5,
     "metadata": {},
     "output_type": "execute_result"
    }
   ],
   "source": [
    "aprender_alumnos[\"sexo\"].value_counts()"
   ]
  },
  {
   "cell_type": "code",
   "execution_count": 6,
   "metadata": {
    "colab": {
     "base_uri": "https://localhost:8080/",
     "height": 35
    },
    "colab_type": "code",
    "id": "v4lMmb_ghSEv",
    "outputId": "37dea243-6ed0-4631-e3f4-20f43f3e932d"
   },
   "outputs": [
    {
     "data": {
      "text/plain": [
       "0.4484357551029302"
      ]
     },
     "execution_count": 6,
     "metadata": {},
     "output_type": "execute_result"
    }
   ],
   "source": [
    "aprender_alumnos[\"sexo\"].value_counts()[\"nc\"]/len(aprender_alumnos)"
   ]
  },
  {
   "cell_type": "markdown",
   "metadata": {
    "colab_type": "text",
    "id": "aXlPtxDnhT6w"
   },
   "source": [
    "El 44% de las pruebas no tiene el sexo especificado"
   ]
  },
  {
   "cell_type": "code",
   "execution_count": 7,
   "metadata": {
    "colab": {
     "base_uri": "https://localhost:8080/",
     "height": 35
    },
    "colab_type": "code",
    "id": "lhXT5pZYgI4v",
    "outputId": "9e31c9c8-a91d-446b-b11d-b12bef1e65fa"
   },
   "outputs": [
    {
     "data": {
      "text/plain": [
       "0"
      ]
     },
     "execution_count": 7,
     "metadata": {},
     "output_type": "execute_result"
    }
   ],
   "source": [
    "sum(aprender_alumnos[\"sexo\"].isnull())"
   ]
  },
  {
   "cell_type": "markdown",
   "metadata": {
    "colab_type": "text",
    "id": "Hj1ACGc_fr12"
   },
   "source": [
    "# Indice socioeconomico"
   ]
  },
  {
   "cell_type": "code",
   "execution_count": 8,
   "metadata": {
    "colab": {
     "base_uri": "https://localhost:8080/",
     "height": 127
    },
    "colab_type": "code",
    "id": "BouAtkS8fqK2",
    "outputId": "f0aabb5e-1ad0-4e4a-83b1-bf2ecf3460bb"
   },
   "outputs": [
    {
     "data": {
      "text/plain": [
       "71494        NaN\n",
       "280016       NaN\n",
       "208953       NaN\n",
       "852196      alto\n",
       "1556803    medio\n",
       "Name: indice_socioeconomico, dtype: object"
      ]
     },
     "execution_count": 8,
     "metadata": {},
     "output_type": "execute_result"
    }
   ],
   "source": [
    "aprender_alumnos[\"indice_socioeconomico\"].sample(5)"
   ]
  },
  {
   "cell_type": "code",
   "execution_count": 9,
   "metadata": {
    "colab": {
     "base_uri": "https://localhost:8080/",
     "height": 109
    },
    "colab_type": "code",
    "id": "AjKcl6WXfwye",
    "outputId": "ef0ec8a0-0738-40e6-a58e-888a2cb856bf"
   },
   "outputs": [
    {
     "data": {
      "text/plain": [
       "medio    805723\n",
       "alto     228694\n",
       "nc       227551\n",
       "bajo     201202\n",
       "Name: indice_socioeconomico, dtype: int64"
      ]
     },
     "execution_count": 9,
     "metadata": {},
     "output_type": "execute_result"
    }
   ],
   "source": [
    "aprender_alumnos[\"indice_socioeconomico\"].value_counts()"
   ]
  },
  {
   "cell_type": "code",
   "execution_count": 10,
   "metadata": {
    "colab": {
     "base_uri": "https://localhost:8080/",
     "height": 35
    },
    "colab_type": "code",
    "id": "BSp1pBP-hf0X",
    "outputId": "65951c7f-7c84-4984-e2ba-94503ff2bf00"
   },
   "outputs": [
    {
     "data": {
      "text/plain": [
       "372540"
      ]
     },
     "execution_count": 10,
     "metadata": {},
     "output_type": "execute_result"
    }
   ],
   "source": [
    "sum(aprender_alumnos[\"indice_socioeconomico\"].isnull())"
   ]
  },
  {
   "cell_type": "code",
   "execution_count": 11,
   "metadata": {
    "colab": {
     "base_uri": "https://localhost:8080/",
     "height": 35
    },
    "colab_type": "code",
    "id": "VGeMWm1ggMim",
    "outputId": "8982b067-a1fd-460e-846e-61c7055c4b43"
   },
   "outputs": [
    {
     "data": {
      "text/plain": [
       "0.3268985841990293"
      ]
     },
     "execution_count": 11,
     "metadata": {},
     "output_type": "execute_result"
    }
   ],
   "source": [
    "(sum(aprender_alumnos[\"indice_socioeconomico\"].isnull())+aprender_alumnos[\"indice_socioeconomico\"].value_counts()[\"nc\"])/len(aprender_alumnos)"
   ]
  },
  {
   "cell_type": "markdown",
   "metadata": {
    "colab_type": "text",
    "id": "HwTjMwYphks2"
   },
   "source": [
    "El 32% de las pruebas no tiene el indice socioeconomico"
   ]
  },
  {
   "cell_type": "markdown",
   "metadata": {
    "colab_type": "text",
    "id": "s9S7F05Nf2M3"
   },
   "source": [
    "# Niveles de desempeño"
   ]
  },
  {
   "cell_type": "code",
   "execution_count": 12,
   "metadata": {
    "colab": {
     "base_uri": "https://localhost:8080/",
     "height": 424
    },
    "colab_type": "code",
    "id": "c7_N5NL1fzy4",
    "outputId": "b14c3e54-4fa9-4481-d064-ca5bb2e36647"
   },
   "outputs": [
    {
     "data": {
      "text/html": [
       "<div>\n",
       "<style scoped>\n",
       "    .dataframe tbody tr th:only-of-type {\n",
       "        vertical-align: middle;\n",
       "    }\n",
       "\n",
       "    .dataframe tbody tr th {\n",
       "        vertical-align: top;\n",
       "    }\n",
       "\n",
       "    .dataframe thead th {\n",
       "        text-align: right;\n",
       "    }\n",
       "</style>\n",
       "<table border=\"1\" class=\"dataframe\">\n",
       "  <thead>\n",
       "    <tr style=\"text-align: right;\">\n",
       "      <th></th>\n",
       "      <th>nivel_desemp_matematica</th>\n",
       "      <th>nivel_desemp_lengua</th>\n",
       "      <th>nivel_desemp_ciencias_sociales</th>\n",
       "      <th>nivel_desemp_ciencias_naturales</th>\n",
       "    </tr>\n",
       "  </thead>\n",
       "  <tbody>\n",
       "    <tr>\n",
       "      <th>0</th>\n",
       "      <td>satisfactorio</td>\n",
       "      <td>nc</td>\n",
       "      <td>satisfactorio</td>\n",
       "      <td>satisfactorio</td>\n",
       "    </tr>\n",
       "    <tr>\n",
       "      <th>1</th>\n",
       "      <td>satisfactorio</td>\n",
       "      <td>nc</td>\n",
       "      <td>satisfactorio</td>\n",
       "      <td>nc</td>\n",
       "    </tr>\n",
       "    <tr>\n",
       "      <th>2</th>\n",
       "      <td>satisfactorio</td>\n",
       "      <td>basico</td>\n",
       "      <td>nc</td>\n",
       "      <td>nc</td>\n",
       "    </tr>\n",
       "    <tr>\n",
       "      <th>3</th>\n",
       "      <td>avanzado</td>\n",
       "      <td>avanzado</td>\n",
       "      <td>satisfactorio</td>\n",
       "      <td>satisfactorio</td>\n",
       "    </tr>\n",
       "    <tr>\n",
       "      <th>4</th>\n",
       "      <td>basico</td>\n",
       "      <td>satisfactorio</td>\n",
       "      <td>nc</td>\n",
       "      <td>basico</td>\n",
       "    </tr>\n",
       "    <tr>\n",
       "      <th>...</th>\n",
       "      <td>...</td>\n",
       "      <td>...</td>\n",
       "      <td>...</td>\n",
       "      <td>...</td>\n",
       "    </tr>\n",
       "    <tr>\n",
       "      <th>1835705</th>\n",
       "      <td>por_debajo_del_basico</td>\n",
       "      <td>satisfactorio</td>\n",
       "      <td>NaN</td>\n",
       "      <td>NaN</td>\n",
       "    </tr>\n",
       "    <tr>\n",
       "      <th>1835706</th>\n",
       "      <td>basico</td>\n",
       "      <td>nc</td>\n",
       "      <td>NaN</td>\n",
       "      <td>NaN</td>\n",
       "    </tr>\n",
       "    <tr>\n",
       "      <th>1835707</th>\n",
       "      <td>por_debajo_del_basico</td>\n",
       "      <td>por_debajo_del_basico</td>\n",
       "      <td>NaN</td>\n",
       "      <td>NaN</td>\n",
       "    </tr>\n",
       "    <tr>\n",
       "      <th>1835708</th>\n",
       "      <td>por_debajo_del_basico</td>\n",
       "      <td>satisfactorio</td>\n",
       "      <td>NaN</td>\n",
       "      <td>NaN</td>\n",
       "    </tr>\n",
       "    <tr>\n",
       "      <th>1835709</th>\n",
       "      <td>basico</td>\n",
       "      <td>satisfactorio</td>\n",
       "      <td>NaN</td>\n",
       "      <td>NaN</td>\n",
       "    </tr>\n",
       "  </tbody>\n",
       "</table>\n",
       "<p>1835710 rows × 4 columns</p>\n",
       "</div>"
      ],
      "text/plain": [
       "        nivel_desemp_matematica    nivel_desemp_lengua  \\\n",
       "0                 satisfactorio                     nc   \n",
       "1                 satisfactorio                     nc   \n",
       "2                 satisfactorio                 basico   \n",
       "3                      avanzado               avanzado   \n",
       "4                        basico          satisfactorio   \n",
       "...                         ...                    ...   \n",
       "1835705   por_debajo_del_basico          satisfactorio   \n",
       "1835706                  basico                     nc   \n",
       "1835707   por_debajo_del_basico  por_debajo_del_basico   \n",
       "1835708   por_debajo_del_basico          satisfactorio   \n",
       "1835709                  basico          satisfactorio   \n",
       "\n",
       "        nivel_desemp_ciencias_sociales nivel_desemp_ciencias_naturales  \n",
       "0                        satisfactorio                   satisfactorio  \n",
       "1                        satisfactorio                              nc  \n",
       "2                                   nc                              nc  \n",
       "3                        satisfactorio                   satisfactorio  \n",
       "4                                   nc                          basico  \n",
       "...                                ...                             ...  \n",
       "1835705                            NaN                             NaN  \n",
       "1835706                            NaN                             NaN  \n",
       "1835707                            NaN                             NaN  \n",
       "1835708                            NaN                             NaN  \n",
       "1835709                            NaN                             NaN  \n",
       "\n",
       "[1835710 rows x 4 columns]"
      ]
     },
     "execution_count": 12,
     "metadata": {},
     "output_type": "execute_result"
    }
   ],
   "source": [
    " aprender_alumnos[['nivel_desemp_matematica','nivel_desemp_lengua', 'nivel_desemp_ciencias_sociales','nivel_desemp_ciencias_naturales']]"
   ]
  },
  {
   "cell_type": "code",
   "execution_count": 13,
   "metadata": {
    "colab": {
     "base_uri": "https://localhost:8080/",
     "height": 175
    },
    "colab_type": "code",
    "id": "WOKVLRFsgBuI",
    "outputId": "1c432a7d-ad0f-423a-c5e4-5dc1e3eb406d"
   },
   "outputs": [
    {
     "data": {
      "text/html": [
       "<div>\n",
       "<style scoped>\n",
       "    .dataframe tbody tr th:only-of-type {\n",
       "        vertical-align: middle;\n",
       "    }\n",
       "\n",
       "    .dataframe tbody tr th {\n",
       "        vertical-align: top;\n",
       "    }\n",
       "\n",
       "    .dataframe thead th {\n",
       "        text-align: right;\n",
       "    }\n",
       "</style>\n",
       "<table border=\"1\" class=\"dataframe\">\n",
       "  <thead>\n",
       "    <tr style=\"text-align: right;\">\n",
       "      <th></th>\n",
       "      <th>nivel_desemp_matematica</th>\n",
       "      <th>nivel_desemp_lengua</th>\n",
       "      <th>nivel_desemp_ciencias_sociales</th>\n",
       "      <th>nivel_desemp_ciencias_naturales</th>\n",
       "    </tr>\n",
       "  </thead>\n",
       "  <tbody>\n",
       "    <tr>\n",
       "      <th>count</th>\n",
       "      <td>1295824</td>\n",
       "      <td>1295824</td>\n",
       "      <td>1244017</td>\n",
       "      <td>1244017</td>\n",
       "    </tr>\n",
       "    <tr>\n",
       "      <th>unique</th>\n",
       "      <td>5</td>\n",
       "      <td>5</td>\n",
       "      <td>5</td>\n",
       "      <td>5</td>\n",
       "    </tr>\n",
       "    <tr>\n",
       "      <th>top</th>\n",
       "      <td>satisfactorio</td>\n",
       "      <td>satisfactorio</td>\n",
       "      <td>satisfactorio</td>\n",
       "      <td>satisfactorio</td>\n",
       "    </tr>\n",
       "    <tr>\n",
       "      <th>freq</th>\n",
       "      <td>373090</td>\n",
       "      <td>424810</td>\n",
       "      <td>391181</td>\n",
       "      <td>495528</td>\n",
       "    </tr>\n",
       "  </tbody>\n",
       "</table>\n",
       "</div>"
      ],
      "text/plain": [
       "       nivel_desemp_matematica nivel_desemp_lengua  \\\n",
       "count                  1295824             1295824   \n",
       "unique                       5                   5   \n",
       "top              satisfactorio       satisfactorio   \n",
       "freq                    373090              424810   \n",
       "\n",
       "       nivel_desemp_ciencias_sociales nivel_desemp_ciencias_naturales  \n",
       "count                         1244017                         1244017  \n",
       "unique                              5                               5  \n",
       "top                     satisfactorio                   satisfactorio  \n",
       "freq                           391181                          495528  "
      ]
     },
     "execution_count": 13,
     "metadata": {},
     "output_type": "execute_result"
    }
   ],
   "source": [
    "aprender_alumnos[['nivel_desemp_matematica','nivel_desemp_lengua', 'nivel_desemp_ciencias_sociales','nivel_desemp_ciencias_naturales']].describe()"
   ]
  },
  {
   "cell_type": "code",
   "execution_count": 14,
   "metadata": {
    "colab": {
     "base_uri": "https://localhost:8080/",
     "height": 35
    },
    "colab_type": "code",
    "id": "3W-R2YcUgEPe",
    "outputId": "2892c49d-a4da-4295-b729-c37041b33ff8"
   },
   "outputs": [
    {
     "data": {
      "text/plain": [
       "1835710"
      ]
     },
     "execution_count": 14,
     "metadata": {},
     "output_type": "execute_result"
    }
   ],
   "source": [
    "len(aprender_alumnos)"
   ]
  },
  {
   "cell_type": "code",
   "execution_count": 15,
   "metadata": {
    "colab": {
     "base_uri": "https://localhost:8080/",
     "height": 35
    },
    "colab_type": "code",
    "id": "x8yfL-_dhv9v",
    "outputId": "1ec4157a-0cdf-4b1d-a6b7-68f475890b99"
   },
   "outputs": [
    {
     "data": {
      "text/plain": [
       "0.2723741767490508"
      ]
     },
     "execution_count": 15,
     "metadata": {},
     "output_type": "execute_result"
    }
   ],
   "source": [
    "500000/1835710"
   ]
  },
  {
   "cell_type": "markdown",
   "metadata": {
    "colab_type": "text",
    "id": "0GoPQL5Wh2s_"
   },
   "source": [
    "Aproximadamente el 30% de las pruebas no tienen nivel de desempeño en cada una de las areas"
   ]
  },
  {
   "cell_type": "code",
   "execution_count": 16,
   "metadata": {
    "colab": {
     "base_uri": "https://localhost:8080/",
     "height": 175
    },
    "colab_type": "code",
    "id": "luAbMQSogYom",
    "outputId": "19c12bbf-afbc-460c-d29e-51db37ac159b"
   },
   "outputs": [
    {
     "data": {
      "text/html": [
       "<div>\n",
       "<style scoped>\n",
       "    .dataframe tbody tr th:only-of-type {\n",
       "        vertical-align: middle;\n",
       "    }\n",
       "\n",
       "    .dataframe tbody tr th {\n",
       "        vertical-align: top;\n",
       "    }\n",
       "\n",
       "    .dataframe thead th {\n",
       "        text-align: right;\n",
       "    }\n",
       "</style>\n",
       "<table border=\"1\" class=\"dataframe\">\n",
       "  <thead>\n",
       "    <tr style=\"text-align: right;\">\n",
       "      <th></th>\n",
       "      <th>nivel_desemp_matematica</th>\n",
       "      <th>nivel_desemp_lengua</th>\n",
       "      <th>nivel_desemp_ciencias_sociales</th>\n",
       "      <th>nivel_desemp_ciencias_naturales</th>\n",
       "    </tr>\n",
       "  </thead>\n",
       "  <tbody>\n",
       "    <tr>\n",
       "      <th>nivel_desemp_matematica</th>\n",
       "      <td>1.000000</td>\n",
       "      <td>1.000000</td>\n",
       "      <td>-0.445157</td>\n",
       "      <td>-0.445157</td>\n",
       "    </tr>\n",
       "    <tr>\n",
       "      <th>nivel_desemp_lengua</th>\n",
       "      <td>1.000000</td>\n",
       "      <td>1.000000</td>\n",
       "      <td>-0.445157</td>\n",
       "      <td>-0.445157</td>\n",
       "    </tr>\n",
       "    <tr>\n",
       "      <th>nivel_desemp_ciencias_sociales</th>\n",
       "      <td>-0.445157</td>\n",
       "      <td>-0.445157</td>\n",
       "      <td>1.000000</td>\n",
       "      <td>1.000000</td>\n",
       "    </tr>\n",
       "    <tr>\n",
       "      <th>nivel_desemp_ciencias_naturales</th>\n",
       "      <td>-0.445157</td>\n",
       "      <td>-0.445157</td>\n",
       "      <td>1.000000</td>\n",
       "      <td>1.000000</td>\n",
       "    </tr>\n",
       "  </tbody>\n",
       "</table>\n",
       "</div>"
      ],
      "text/plain": [
       "                                 nivel_desemp_matematica  nivel_desemp_lengua  \\\n",
       "nivel_desemp_matematica                         1.000000             1.000000   \n",
       "nivel_desemp_lengua                             1.000000             1.000000   \n",
       "nivel_desemp_ciencias_sociales                 -0.445157            -0.445157   \n",
       "nivel_desemp_ciencias_naturales                -0.445157            -0.445157   \n",
       "\n",
       "                                 nivel_desemp_ciencias_sociales  \\\n",
       "nivel_desemp_matematica                               -0.445157   \n",
       "nivel_desemp_lengua                                   -0.445157   \n",
       "nivel_desemp_ciencias_sociales                         1.000000   \n",
       "nivel_desemp_ciencias_naturales                        1.000000   \n",
       "\n",
       "                                 nivel_desemp_ciencias_naturales  \n",
       "nivel_desemp_matematica                                -0.445157  \n",
       "nivel_desemp_lengua                                    -0.445157  \n",
       "nivel_desemp_ciencias_sociales                          1.000000  \n",
       "nivel_desemp_ciencias_naturales                         1.000000  "
      ]
     },
     "execution_count": 16,
     "metadata": {},
     "output_type": "execute_result"
    }
   ],
   "source": [
    "aprender_alumnos[['nivel_desemp_matematica','nivel_desemp_lengua', 'nivel_desemp_ciencias_sociales','nivel_desemp_ciencias_naturales']].applymap(lambda x: math.isnan(x) if not isinstance(x, str) else False).corr()"
   ]
  },
  {
   "cell_type": "markdown",
   "metadata": {
    "colab_type": "text",
    "id": "SCSPBd_Jh7kv"
   },
   "source": [
    "Donde falta el nivel de desempeño en matematica tambien falta el de lengua, y donde falta el de ciencias sociales falta el de naturales, deben corresponder a dos pruebas separadas"
   ]
  },
  {
   "cell_type": "markdown",
   "metadata": {
    "colab_type": "text",
    "id": "F9Es6GMziGIg"
   },
   "source": [
    "# Ponderadores"
   ]
  },
  {
   "cell_type": "code",
   "execution_count": 17,
   "metadata": {
    "colab": {
     "base_uri": "https://localhost:8080/",
     "height": 300
    },
    "colab_type": "code",
    "id": "v7x8pEpxgj7O",
    "outputId": "32976474-e928-4607-c574-2d6ce2ad2790"
   },
   "outputs": [
    {
     "data": {
      "text/html": [
       "<div>\n",
       "<style scoped>\n",
       "    .dataframe tbody tr th:only-of-type {\n",
       "        vertical-align: middle;\n",
       "    }\n",
       "\n",
       "    .dataframe tbody tr th {\n",
       "        vertical-align: top;\n",
       "    }\n",
       "\n",
       "    .dataframe thead th {\n",
       "        text-align: right;\n",
       "    }\n",
       "</style>\n",
       "<table border=\"1\" class=\"dataframe\">\n",
       "  <thead>\n",
       "    <tr style=\"text-align: right;\">\n",
       "      <th></th>\n",
       "      <th>ponderador_lengua</th>\n",
       "      <th>ponderador_matematica</th>\n",
       "      <th>ponderador_ciencias_naturales</th>\n",
       "      <th>ponderador_ciencias_sociales</th>\n",
       "    </tr>\n",
       "  </thead>\n",
       "  <tbody>\n",
       "    <tr>\n",
       "      <th>count</th>\n",
       "      <td>1.696377e+06</td>\n",
       "      <td>1.726680e+06</td>\n",
       "      <td>1.732310e+06</td>\n",
       "      <td>1.756376e+06</td>\n",
       "    </tr>\n",
       "    <tr>\n",
       "      <th>mean</th>\n",
       "      <td>1.031906e+00</td>\n",
       "      <td>1.004982e+00</td>\n",
       "      <td>8.996754e-01</td>\n",
       "      <td>9.123590e-01</td>\n",
       "    </tr>\n",
       "    <tr>\n",
       "      <th>std</th>\n",
       "      <td>4.482136e+00</td>\n",
       "      <td>4.633515e+00</td>\n",
       "      <td>4.440036e+00</td>\n",
       "      <td>4.367103e+00</td>\n",
       "    </tr>\n",
       "    <tr>\n",
       "      <th>min</th>\n",
       "      <td>-1.000000e+00</td>\n",
       "      <td>-1.000000e+00</td>\n",
       "      <td>-1.000000e+00</td>\n",
       "      <td>-1.000000e+00</td>\n",
       "    </tr>\n",
       "    <tr>\n",
       "      <th>25%</th>\n",
       "      <td>-1.000000e+00</td>\n",
       "      <td>-1.000000e+00</td>\n",
       "      <td>-1.000000e+00</td>\n",
       "      <td>-1.000000e+00</td>\n",
       "    </tr>\n",
       "    <tr>\n",
       "      <th>50%</th>\n",
       "      <td>1.119620e+00</td>\n",
       "      <td>1.098848e+00</td>\n",
       "      <td>1.078306e+00</td>\n",
       "      <td>1.085212e+00</td>\n",
       "    </tr>\n",
       "    <tr>\n",
       "      <th>75%</th>\n",
       "      <td>1.442554e+00</td>\n",
       "      <td>1.468137e+00</td>\n",
       "      <td>1.420758e+00</td>\n",
       "      <td>1.414500e+00</td>\n",
       "    </tr>\n",
       "    <tr>\n",
       "      <th>max</th>\n",
       "      <td>1.097849e+02</td>\n",
       "      <td>1.244528e+02</td>\n",
       "      <td>9.870000e+02</td>\n",
       "      <td>1.027756e+02</td>\n",
       "    </tr>\n",
       "  </tbody>\n",
       "</table>\n",
       "</div>"
      ],
      "text/plain": [
       "       ponderador_lengua  ponderador_matematica  \\\n",
       "count       1.696377e+06           1.726680e+06   \n",
       "mean        1.031906e+00           1.004982e+00   \n",
       "std         4.482136e+00           4.633515e+00   \n",
       "min        -1.000000e+00          -1.000000e+00   \n",
       "25%        -1.000000e+00          -1.000000e+00   \n",
       "50%         1.119620e+00           1.098848e+00   \n",
       "75%         1.442554e+00           1.468137e+00   \n",
       "max         1.097849e+02           1.244528e+02   \n",
       "\n",
       "       ponderador_ciencias_naturales  ponderador_ciencias_sociales  \n",
       "count                   1.732310e+06                  1.756376e+06  \n",
       "mean                    8.996754e-01                  9.123590e-01  \n",
       "std                     4.440036e+00                  4.367103e+00  \n",
       "min                    -1.000000e+00                 -1.000000e+00  \n",
       "25%                    -1.000000e+00                 -1.000000e+00  \n",
       "50%                     1.078306e+00                  1.085212e+00  \n",
       "75%                     1.420758e+00                  1.414500e+00  \n",
       "max                     9.870000e+02                  1.027756e+02  "
      ]
     },
     "execution_count": 17,
     "metadata": {},
     "output_type": "execute_result"
    }
   ],
   "source": [
    "aprender_alumnos[['ponderador_lengua',\n",
    "       'ponderador_matematica', 'ponderador_ciencias_naturales',\n",
    "       'ponderador_ciencias_sociales']].describe()"
   ]
  },
  {
   "cell_type": "code",
   "execution_count": 26,
   "metadata": {
    "colab": {
     "base_uri": "https://localhost:8080/",
     "height": 300
    },
    "colab_type": "code",
    "id": "v7x8pEpxgj7O",
    "outputId": "32976474-e928-4607-c574-2d6ce2ad2790"
   },
   "outputs": [
    {
     "data": {
      "text/plain": [
       "ponderador_lengua                139333\n",
       "ponderador_matematica            109030\n",
       "ponderador_ciencias_naturales    103400\n",
       "ponderador_ciencias_sociales      79334\n",
       "dtype: int64"
      ]
     },
     "execution_count": 26,
     "metadata": {},
     "output_type": "execute_result"
    }
   ],
   "source": [
    "aprender_alumnos[['ponderador_lengua',\n",
    "       'ponderador_matematica', 'ponderador_ciencias_naturales',\n",
    "       'ponderador_ciencias_sociales']].isna().sum()"
   ]
  },
  {
   "cell_type": "markdown",
   "metadata": {
    "colab": {},
    "colab_type": "code",
    "id": "l_LBsNToyTbt"
   },
   "source": [
    "# Tecnologia"
   ]
  },
  {
   "cell_type": "code",
   "execution_count": 25,
   "metadata": {},
   "outputs": [
    {
     "data": {
      "text/plain": [
       "tiene_notebook      0\n",
       "tiene_pc            0\n",
       "tiene_tablet        0\n",
       "tiene_celular       0\n",
       "tiene_smartphone    0\n",
       "tiene_consola       0\n",
       "tiene_smarttv       0\n",
       "tiene_cable         0\n",
       "tiene_internet      0\n",
       "dtype: int64"
      ]
     },
     "execution_count": 25,
     "metadata": {},
     "output_type": "execute_result"
    }
   ],
   "source": [
    "aprender_alumnos[['tiene_notebook', 'tiene_pc',\n",
    "                  'tiene_tablet', 'tiene_celular', 'tiene_smartphone', 'tiene_consola',\n",
    "                  'tiene_smarttv', 'tiene_cable', 'tiene_internet']].isna().sum()"
   ]
  },
  {
   "cell_type": "code",
   "execution_count": 28,
   "metadata": {},
   "outputs": [
    {
     "data": {
      "text/plain": [
       "nc    1081758\n",
       "si     403252\n",
       "no     350700\n",
       "Name: tiene_notebook, dtype: int64"
      ]
     },
     "execution_count": 28,
     "metadata": {},
     "output_type": "execute_result"
    }
   ],
   "source": [
    "aprender_alumnos['tiene_notebook'].value_counts()"
   ]
  },
  {
   "cell_type": "code",
   "execution_count": null,
   "metadata": {},
   "outputs": [],
   "source": []
  }
 ],
 "metadata": {
  "colab": {
   "name": "Exploración inicial.ipynb",
   "provenance": []
  },
  "kernelspec": {
   "display_name": "Python 3",
   "language": "python",
   "name": "python3"
  },
  "language_info": {
   "codemirror_mode": {
    "name": "ipython",
    "version": 3
   },
   "file_extension": ".py",
   "mimetype": "text/x-python",
   "name": "python",
   "nbconvert_exporter": "python",
   "pygments_lexer": "ipython3",
   "version": "3.6.9"
  }
 },
 "nbformat": 4,
 "nbformat_minor": 4
}
